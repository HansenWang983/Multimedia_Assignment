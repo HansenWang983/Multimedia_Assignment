{
 "cells": [
  {
   "cell_type": "code",
   "execution_count": 10,
   "metadata": {},
   "outputs": [
    {
     "name": "stdout",
     "output_type": "stream",
     "text": [
      "[[ 515.   65.  -12.    4.    1.    2.   -8.    5.]\n",
      " [ -16.    3.    2.    0.   -0.  -11.   -2.    3.]\n",
      " [ -12.    6.   11.   -1.    3.    0.    1.   -2.]\n",
      " [  -8.    3.   -4.    2.   -2.   -3.   -5.   -2.]\n",
      " [   0.   -2.    7.   -5.    4.   -0.   -1.   -4.]\n",
      " [   0.   -3.   -1.    0.    4.    1.   -1.    0.]\n",
      " [   3.   -2.   -3.    3.    3.   -1.   -1.    3.]\n",
      " [  -2.    5.   -2.    4.   -2.    2.   -3.    0.]]\n"
     ]
    }
   ],
   "source": [
    "import numpy as np\n",
    "import math\n",
    "\n",
    "# 二维DCT变换\n",
    "def DCT_Transform(block):\n",
    "    # 使范围保持在-127～128     \n",
    "    block = block -128\n",
    "    res = np.zeros(block.shape)\n",
    "    C = lambda x: math.sqrt(2)/2 if x==0 else 1\n",
    "    for u in range(8):\n",
    "            for v in range(8):\n",
    "                sum = 0\n",
    "                for i in range(8):\n",
    "                    for j in range(8):\n",
    "                        sum+=math.cos(math.pi*(2*i+1)*u/16)*math.cos(math.pi*v*(2*j+1)/16)*(block[i][j])\n",
    "                res[u,v] = round(sum *C(u)*C(v)/4)\n",
    "    return res\n",
    "\n",
    "# 书上例子用于测试\n",
    "block = np.array([\n",
    "                [200, 202, 189, 188, 189, 175, 175, 175],\n",
    "                [200, 203, 198, 188, 189, 182, 178, 175],\n",
    "                [203, 200, 200, 195, 200, 187, 185, 175],\n",
    "                [200, 200, 200, 200, 197, 187, 187, 187],\n",
    "                [200, 205, 200, 200, 195, 188, 187, 175],\n",
    "                [200, 200, 200, 200, 200, 190, 187, 175],\n",
    "                [205, 200, 199, 200, 191, 187, 187, 175],\n",
    "                [210, 200, 200, 200, 188, 185, 187, 186]\n",
    "            ])\n",
    "            \n",
    "dct_block = DCT_Transform(block)\n",
    "print(dct_block)"
   ]
  },
  {
   "cell_type": "code",
   "execution_count": 13,
   "metadata": {},
   "outputs": [
    {
     "name": "stdout",
     "output_type": "stream",
     "text": [
      "[[ 32.   6.  -1.   0.   0.   0.  -0.   0.]\n",
      " [ -1.   0.   0.   0.  -0.  -0.  -0.   0.]\n",
      " [ -1.   0.   1.  -0.   0.   0.   0.  -0.]\n",
      " [ -1.   0.  -0.   0.  -0.  -0.  -0.  -0.]\n",
      " [  0.  -0.   0.  -0.   0.  -0.  -0.  -0.]\n",
      " [  0.  -0.  -0.   0.   0.   0.  -0.   0.]\n",
      " [  0.  -0.  -0.   0.   0.  -0.  -0.   0.]\n",
      " [ -0.   0.  -0.   0.  -0.   0.  -0.   0.]]\n"
     ]
    }
   ],
   "source": [
    "# 亮度和色度量化表\n",
    "QY=np.array([[16,11,10,16,24,40,51,61],\n",
    "             [12,12,14,19,26,48,60,55],\n",
    "             [14,13,16,24,40,57,69,56],\n",
    "             [14,17,22,29,51,87,80,62],\n",
    "             [18,22,37,56,68,109,103,77],\n",
    "             [24,35,55,64,81,104,113,92],\n",
    "             [49,64,78,87,103,121,120,101],\n",
    "             [72,92,95,98,112,100,103,99]])\n",
    "\n",
    "QC=np.array([[17,18,24,47,99,99,99,99],\n",
    "             [18,21,26,66,99,99,99,99],\n",
    "             [24,26,56,99,99,99,99,99],\n",
    "             [47,66,99,99,99,99,99,99],\n",
    "             [99,99,99,99,99,99,99,99],\n",
    "             [99,99,99,99,99,99,99,99],\n",
    "             [99,99,99,99,99,99,99,99],\n",
    "             [99,99,99,99,99,99,99,99]])\n",
    "\n",
    "# 根据亮度量化表进行量化\n",
    "quan_block = np.round(dct_block/QY)\n",
    "print(quan_block)"
   ]
  },
  {
   "cell_type": "code",
   "execution_count": 14,
   "metadata": {},
   "outputs": [
    {
     "name": "stdout",
     "output_type": "stream",
     "text": [
      "[ 32.   6.  -1.  -1.   0.  -1.   0.   0.   0.  -1.   0.   0.   1.   0.   0.\n",
      "   0.  -0.  -0.  -0.  -0.   0.   0.  -0.   0.   0.   0.  -0.  -0.   0.  -0.\n",
      "   0.  -0.  -0.  -0.  -0.  -0.   0.  -0.   0.   0.  -0.   0.   0.  -0.  -0.\n",
      "  -0.   0.   0.  -0.   0.   0.   0.  -0.  -0.  -0.  -0.  -0.  -0.   0.  -0.\n",
      "   0.   0.  -0.   0.]\n"
     ]
    }
   ],
   "source": [
    "def block_to_zigzag(block):\n",
    "    return np.array([block[point] for point in zigzag_points(*block.shape)])\n",
    "    \n",
    "# 返回横纵坐标\n",
    "def zigzag_points(rows, cols):\n",
    "    # 方向选择\n",
    "    UP, DOWN, RIGHT, LEFT, UP_RIGHT, DOWN_LEFT = range(6)\n",
    "\n",
    "    # 移动坐标\n",
    "    def move(direction, point):\n",
    "        return {\n",
    "            UP: lambda point: (point[0] - 1, point[1]),\n",
    "            DOWN: lambda point: (point[0] + 1, point[1]),\n",
    "            LEFT: lambda point: (point[0], point[1] - 1),\n",
    "            RIGHT: lambda point: (point[0], point[1] + 1),\n",
    "            UP_RIGHT: lambda point: move(UP, move(RIGHT, point)),\n",
    "            DOWN_LEFT: lambda point: move(DOWN, move(LEFT, point))\n",
    "        }[direction](point)\n",
    "\n",
    "    # 判断是否在边界内\n",
    "    def inbounds(point):\n",
    "        return 0 <= point[0] < rows and 0 <= point[1] < cols\n",
    "\n",
    "    # 左上角开始\n",
    "    point = (0, 0)\n",
    "\n",
    "    # True when moving up-right, False when moving down-left\n",
    "    move_up = True\n",
    "\n",
    "    for i in range(rows * cols):\n",
    "        yield point\n",
    "        if move_up:\n",
    "            if inbounds(move(UP_RIGHT, point)):\n",
    "                point = move(UP_RIGHT, point)\n",
    "            else:\n",
    "                move_up = False\n",
    "                if inbounds(move(RIGHT, point)):\n",
    "                    point = move(RIGHT, point)\n",
    "                else:\n",
    "                    point = move(DOWN, point)\n",
    "        else:\n",
    "            if inbounds(move(DOWN_LEFT, point)):\n",
    "                point = move(DOWN_LEFT, point)\n",
    "            else:\n",
    "                move_up = True\n",
    "                if inbounds(move(DOWN, point)):\n",
    "                    point = move(DOWN, point)\n",
    "                else:\n",
    "                    point = move(RIGHT, point)\n",
    "                    \n",
    "z_array = block_to_zigzag(quan_block)\n",
    "print(z_array)"
   ]
  },
  {
   "cell_type": "code",
   "execution_count": 26,
   "metadata": {},
   "outputs": [
    {
     "name": "stdout",
     "output_type": "stream",
     "text": [
      "symbols1:(RUNLENGTH,SIZE)\n",
      " [(0, 3), (0, 1), (0, 1), (1, 1), (3, 1), (2, 1), (0, 0)]\n",
      "symbols2:(AMPLITUDE)\n",
      " ['110', '0', '0', '0', '0', '1', 0]\n"
     ]
    }
   ],
   "source": [
    "def reverse_str(str):\n",
    "    res = \"\"\n",
    "    for _,s in enumerate(str):\n",
    "        if s=='0':\n",
    "            res += '1'\n",
    "        else:\n",
    "            res += '0'\n",
    "    return res\n",
    "\n",
    "def binstr_flip(binstr):\n",
    "    # check if binstr is a binary string\n",
    "    if not set(binstr).issubset('01'):\n",
    "        raise ValueError(\"binstr should have only '0's and '1's\")\n",
    "    return ''.join(map(lambda c: '0' if c == '1' else '1', binstr))\n",
    "\n",
    "# 输入VALUE，得到SIZE\n",
    "def int_size(number):\n",
    "    str = \"\"\n",
    "    if number==0:\n",
    "        return 0\n",
    "    if number < 0:\n",
    "        number = abs(number)\n",
    "        l = len(bin(number)) - 2\n",
    "        str = bin(number)[-l:]\n",
    "        str = reverse_str(str)\n",
    "    else:\n",
    "        l = len(bin(number)) - 2\n",
    "        str = bin(number)[-l:]\n",
    "    # return (l,str)\n",
    "    return l \n",
    "\n",
    "# 输入VALUE，得到幅值AMPLITUDE\n",
    "def int_to_binstr(n):\n",
    "    if n == 0:\n",
    "        return ''\n",
    "\n",
    "    binstr = bin(abs(n))[2:]\n",
    "\n",
    "    # change every 0 to 1 and vice verse when n is negative\n",
    "    return binstr if n > 0 else binstr_flip(binstr)\n",
    "\n",
    "# 返回（RUNLENGTH，SIZE）和 “AMPLIYTUDE“\n",
    "def run_length_encode(arr):\n",
    "    # determine where the sequence is ending prematurely\n",
    "    last_nonzero = -1\n",
    "    # print(arr)\n",
    "    for i, elem in enumerate(arr):\n",
    "        if elem != 0:\n",
    "            last_nonzero = i\n",
    "    # print(last_nonzero)\n",
    "\n",
    "    # each symbols1 is a (RUNLENGTH, SIZE) tuple\n",
    "    # each symbols2 is a AMPLITUDE string\n",
    "    symbols1 = []\n",
    "    symbols2 = []\n",
    "    run_length = 0\n",
    "\n",
    "    for i, elem in enumerate(arr):\n",
    "        if i > last_nonzero:\n",
    "            symbols1.append((0, 0))\n",
    "            symbols2.append(0)\n",
    "            break\n",
    "        elif elem == 0 and run_length < 15:\n",
    "            run_length += 1\n",
    "        else:\n",
    "            # size = bits_required(elem)\n",
    "            symbols1.append((run_length, int_size(elem)))\n",
    "            symbols2.append(int_to_binstr(elem))\n",
    "            run_length = 0\n",
    "    return symbols1,symbols2\n",
    "\n",
    "# 注意转换为32位整型\n",
    "z_array = z_array.astype(np.int32)\n",
    "# 注意从第二个下标开始进行游长编码\n",
    "symbols1,symbols2 = run_length_encode(z_array[1:])\n",
    "print(\"symbols1:(RUNLENGTH,SIZE)\\n\",symbols1)\n",
    "print(\"symbols2:(AMPLITUDE)\\n\",symbols2)"
   ]
  },
  {
   "cell_type": "code",
   "execution_count": 31,
   "metadata": {},
   "outputs": [
    {
     "name": "stdout",
     "output_type": "stream",
     "text": [
      "SIZE:\n",
      " [8, 3, 3, 2, 4]\n",
      "AMPLITUDE:\n",
      " ['10010110', '101', '001', '11', '0111']\n"
     ]
    }
   ],
   "source": [
    "# 输入DC系数数组，输出SIZE和AMPLITUDE\n",
    "def dcpm(dc_array):\n",
    "    sizes = []\n",
    "    amplitudes = []\n",
    "    for i in range(dc_array.shape[0]):\n",
    "        if i==0:\n",
    "            sizes.append(int_size(dc_array[i]))\n",
    "            amplitudes.append(int_to_binstr(dc_array[i]))\n",
    "        else:\n",
    "            sizes.append(int_size(dc_array[i]-dc_array[i-1]))\n",
    "            amplitudes.append(int_to_binstr(dc_array[i]-dc_array[i-1]))\n",
    "    return sizes,amplitudes\n",
    "\n",
    "# 以书中例子作为测试\n",
    "dc_arrays = np.array([150,155,149,152,144])\n",
    "sizes,amplitudes = dcpm(dc_arrays)\n",
    "print(\"SIZE:\\n\",sizes)\n",
    "print(\"AMPLITUDE:\\n\",amplitudes)"
   ]
  },
  {
   "cell_type": "code",
   "execution_count": 36,
   "metadata": {},
   "outputs": [
    {
     "name": "stdout",
     "output_type": "stream",
     "text": [
      "DC SIZE：encode\n",
      " {8: '00', 2: '01', 4: '10', 3: '11'}\n",
      "AC tuple:encode\n",
      " {(3, 1): '00', (0, 3): '010', (1, 1): '011', (0, 1): '10', (0, 0): '110', (2, 1): '111'}\n"
     ]
    }
   ],
   "source": [
    "class HuffmanTree:\n",
    "\n",
    "    class __Node:\n",
    "        def __init__(self, value, freq, left_child, right_child):\n",
    "            self.value = value\n",
    "            self.freq = freq\n",
    "            self.left_child = left_child\n",
    "            self.right_child = right_child\n",
    "\n",
    "        @classmethod\n",
    "        def init_leaf(self, value, freq):\n",
    "            return self(value, freq, None, None)\n",
    "\n",
    "        @classmethod\n",
    "        def init_node(self, left_child, right_child):\n",
    "            freq = left_child.freq + right_child.freq\n",
    "            return self(None, freq, left_child, right_child)\n",
    "\n",
    "        def is_leaf(self):\n",
    "            return self.value is not None\n",
    "\n",
    "        def __eq__(self, other):\n",
    "            stup = self.value, self.freq, self.left_child, self.right_child\n",
    "            otup = other.value, other.freq, other.left_child, other.right_child\n",
    "            return stup == otup\n",
    "\n",
    "        def __nq__(self, other):\n",
    "            return not (self == other)\n",
    "\n",
    "        def __lt__(self, other):\n",
    "            return self.freq < other.freq\n",
    "\n",
    "        def __le__(self, other):\n",
    "            return self.freq < other.freq or self.freq == other.freq\n",
    "\n",
    "        def __gt__(self, other):\n",
    "            return not (self <= other)\n",
    "\n",
    "        def __ge__(self, other):\n",
    "            return not (self < other)\n",
    "\n",
    "    def __init__(self, arr):\n",
    "        q = PriorityQueue()\n",
    "\n",
    "        # calculate frequencies and insert them into a priority queue\n",
    "        for val, freq in self.__calc_freq(arr).items():\n",
    "            q.put(self.__Node.init_leaf(val, freq))\n",
    "\n",
    "        while q.qsize() >= 2:\n",
    "            u = q.get()\n",
    "            v = q.get()\n",
    "\n",
    "            q.put(self.__Node.init_node(u, v))\n",
    "\n",
    "        self.__root = q.get()\n",
    "\n",
    "        # dictionaries to store huffman table\n",
    "        self.__value_to_bitstring = dict()\n",
    "\n",
    "    def value_to_bitstring_table(self):\n",
    "        if len(self.__value_to_bitstring.keys()) == 0:\n",
    "            self.__create_huffman_table()\n",
    "        return self.__value_to_bitstring\n",
    "\n",
    "    def __create_huffman_table(self):\n",
    "        def tree_traverse(current_node, bitstring=''):\n",
    "            if current_node is None:\n",
    "                return\n",
    "            if current_node.is_leaf():\n",
    "                self.__value_to_bitstring[current_node.value] = bitstring\n",
    "                return\n",
    "            tree_traverse(current_node.left_child, bitstring + '0')\n",
    "            tree_traverse(current_node.right_child, bitstring + '1')\n",
    "\n",
    "        tree_traverse(self.__root)\n",
    "\n",
    "    def __calc_freq(self, arr):\n",
    "        freq_dict = dict()\n",
    "        for elem in arr:\n",
    "            if elem in freq_dict:\n",
    "                freq_dict[elem] += 1\n",
    "            else:\n",
    "                freq_dict[elem] = 1\n",
    "        return freq_dict\n",
    "\n",
    "H_DC = HuffmanTree(sizes)\n",
    "H_AC = HuffmanTree(symbols1)\n",
    "\n",
    "print(\"DC SIZE：encode\\n\",H_DC.value_to_bitstring_table())\n",
    "print(\"AC tuple:encode\\n\",H_AC.value_to_bitstring_table())"
   ]
  },
  {
   "cell_type": "code",
   "execution_count": 38,
   "metadata": {},
   "outputs": [
    {
     "name": "stdout",
     "output_type": "stream",
     "text": [
      "[[32  6 -1  0  0  0  0  0]\n",
      " [-1  0  0  0  0  0  0  0]\n",
      " [-1  0  1  0  0  0  0  0]\n",
      " [-1  0  0  0  0  0  0  0]\n",
      " [ 0  0  0  0  0  0  0  0]\n",
      " [ 0  0  0  0  0  0  0  0]\n",
      " [ 0  0  0  0  0  0  0  0]\n",
      " [ 0  0  0  0  0  0  0  0]]\n"
     ]
    }
   ],
   "source": [
    "# 解码器\n",
    "# 具体二进制文件的读取和解码见decode.py\n",
    "# 此处整体码字的解码，从得到z型数组开始\n",
    "\n",
    "# 将z型数组还原成8x8的块\n",
    "def zigzag_to_block(zigzag):\n",
    "    # assuming that the width and the height of the block are equal\n",
    "    rows = cols = int(math.sqrt(len(zigzag)))\n",
    "\n",
    "    if rows * cols != len(zigzag):\n",
    "        raise ValueError(\"length of zigzag should be a perfect square\")\n",
    "\n",
    "    block = np.empty((rows, cols), np.int32)\n",
    "\n",
    "    for i, point in enumerate(zigzag_points(rows, cols)):\n",
    "        block[point] = zigzag[i]\n",
    "\n",
    "    return block\n",
    "\n",
    "z_array_decode = zigzag_to_block(z_array)\n",
    "print(z_array_decode)"
   ]
  },
  {
   "cell_type": "code",
   "execution_count": 39,
   "metadata": {},
   "outputs": [
    {
     "name": "stdout",
     "output_type": "stream",
     "text": [
      "[[512  66 -10   0   0   0   0   0]\n",
      " [-12   0   0   0   0   0   0   0]\n",
      " [-14   0  16   0   0   0   0   0]\n",
      " [-14   0   0   0   0   0   0   0]\n",
      " [  0   0   0   0   0   0   0   0]\n",
      " [  0   0   0   0   0   0   0   0]\n",
      " [  0   0   0   0   0   0   0   0]\n",
      " [  0   0   0   0   0   0   0   0]]\n"
     ]
    }
   ],
   "source": [
    "# 逆量化，直接和量化表点乘\n",
    "dequan_block = z_array_decode*QY\n",
    "print(dequan_block)"
   ]
  },
  {
   "cell_type": "code",
   "execution_count": 40,
   "metadata": {},
   "outputs": [
    {
     "name": "stdout",
     "output_type": "stream",
     "text": [
      "[[ 199.  196.  191.  186.  182.  178.  177.  176.]\n",
      " [ 201.  199.  196.  192.  188.  183.  180.  178.]\n",
      " [ 203.  203.  202.  200.  195.  189.  183.  180.]\n",
      " [ 202.  203.  204.  203.  198.  191.  183.  179.]\n",
      " [ 200.  201.  202.  201.  196.  189.  182.  177.]\n",
      " [ 200.  200.  199.  197.  192.  186.  181.  177.]\n",
      " [ 204.  202.  199.  195.  190.  186.  183.  181.]\n",
      " [ 207.  204.  200.  194.  190.  187.  185.  184.]]\n"
     ]
    }
   ],
   "source": [
    "def IDCT_TRANSFORM(block):\n",
    "    res = np.zeros(block.shape)\n",
    "    C = lambda x: math.sqrt(2)/2 if x==0 else 1\n",
    "    for i in range(8):\n",
    "            for j in range(8):\n",
    "                sum = 0\n",
    "                for u in range(8):\n",
    "                    for v in range(8):\n",
    "                        sum+=C(u)*C(v)/4*math.cos(math.pi*(2*i+1)*u/16)*math.cos(math.pi*v*(2*j+1)/16)*block[v][u]\n",
    "                res[j][i] = round(sum)+128\n",
    "    return res\n",
    "\n",
    "idct_block = IDCT_TRANSFORM(dequan_block)\n",
    "print(idct_block)"
   ]
  },
  {
   "cell_type": "code",
   "execution_count": 41,
   "metadata": {},
   "outputs": [
    {
     "name": "stdout",
     "output_type": "stream",
     "text": [
      "[[ 1.  6. -2.  2.  7. -3. -2. -1.]\n",
      " [-1.  4.  2. -4.  1. -1. -2. -3.]\n",
      " [ 0. -3. -2. -5.  5. -2.  2. -5.]\n",
      " [-2. -3. -4. -3. -1. -4.  4.  8.]\n",
      " [ 0.  4. -2. -1. -1. -1.  5. -2.]\n",
      " [ 0.  0.  1.  3.  8.  4.  6. -2.]\n",
      " [ 1. -2.  0.  5.  1.  1.  4. -6.]\n",
      " [ 3. -4.  0.  6. -2. -2.  2.  2.]]\n"
     ]
    }
   ],
   "source": [
    "# 计算重构误差\n",
    "e = block - idct_block\n",
    "print(e)"
   ]
  },
  {
   "cell_type": "code",
   "execution_count": null,
   "metadata": {},
   "outputs": [],
   "source": []
  }
 ],
 "metadata": {
  "kernelspec": {
   "display_name": "Python 3",
   "language": "python",
   "name": "python3"
  },
  "language_info": {
   "codemirror_mode": {
    "name": "ipython",
    "version": 3
   },
   "file_extension": ".py",
   "mimetype": "text/x-python",
   "name": "python",
   "nbconvert_exporter": "python",
   "pygments_lexer": "ipython3",
   "version": "3.6.3"
  }
 },
 "nbformat": 4,
 "nbformat_minor": 2
}
